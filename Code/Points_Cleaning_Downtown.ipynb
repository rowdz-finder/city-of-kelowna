{
 "cells": [
  {
   "cell_type": "markdown",
   "metadata": {},
   "source": [
    "## Cleaning the points data\n",
    "\n",
    "The points file from the City already went through their cleaning with the following criteria:\n",
    "\n",
    "- Bounded to Kelowna\n",
    "- local time zone was set to Vancouver\n",
    "- minimum number of trip points = 3\n",
    "- minimum segment length (metres) = 20\n",
    "- minimum trip length (metres) = 150\n",
    "- maximum trip length (metres) = 20000\n",
    "- minimum trip duration (sec) = 120\n",
    "- maximum trip duration (sec) = 10800 (3 hrs)\n",
    "- maximum average trip speed (m/s) = 20/3.6 (20 km/h converted to m/s)\n",
    "- maximum trip segment speed (m/s) = 30/3.6 (30 km/h converted to m/s)\n",
    "- maximum fast segments = 0.1  # 10% of segments can exceed max_trip_segment_speed\n",
    "\n",
    "\n",
    "\n",
    "These points were identified, but not removed from the file. All those extra columns are the identification of whether a point exceeded one of the the defined maximum or minimum.\n",
    "\n",
    "We need to redefine the boundaries are remove trips that violate the following:\n",
    "\n",
    "- minimum number of trip points = 3\n",
    "- minimum trip length (metres) = 150\n",
    "- maximum trip length (metres) = 20000\n",
    "- minimum trip duration (sec) = 120 (2 minutes)\n",
    "- maximum trip duration (sec) = 10800 (3 hrs)\n",
    "- maximum average trip speed (m/s) = 20/3.6 (20 km/h converted to m/s)\n",
    "- maximum trip segment speed (m/s) = 30/3.6 (30 km/h converted to m/s)\n",
    "- maximum fast segments = 0.1  # 10% of segments can exceed max_trip_segment_speed\n",
    "\n",
    "**This code is intentionally modular in case we need to experiment with what we take out.**"
   ]
  },
  {
   "cell_type": "code",
   "execution_count": 1,
   "metadata": {},
   "outputs": [],
   "source": [
    "import pandas as pd\n",
    "import numpy as np\n",
    "from datetime import datetime"
   ]
  },
  {
   "cell_type": "code",
   "execution_count": 2,
   "metadata": {},
   "outputs": [
    {
     "data": {
      "text/html": [
       "<div>\n",
       "<style scoped>\n",
       "    .dataframe tbody tr th:only-of-type {\n",
       "        vertical-align: middle;\n",
       "    }\n",
       "\n",
       "    .dataframe tbody tr th {\n",
       "        vertical-align: top;\n",
       "    }\n",
       "\n",
       "    .dataframe thead th {\n",
       "        text-align: right;\n",
       "    }\n",
       "</style>\n",
       "<table border=\"1\" class=\"dataframe\">\n",
       "  <thead>\n",
       "    <tr style=\"text-align: right;\">\n",
       "      <th></th>\n",
       "      <th>trip_id</th>\n",
       "      <th>pointtime</th>\n",
       "      <th>tripstarttime</th>\n",
       "      <th>tripendtime</th>\n",
       "      <th>lon</th>\n",
       "      <th>lat</th>\n",
       "      <th>m</th>\n",
       "      <th>pointdist</th>\n",
       "      <th>pointdur</th>\n",
       "      <th>pointspeed</th>\n",
       "      <th>...</th>\n",
       "      <th>perr_shortseg</th>\n",
       "      <th>perr_fastseg</th>\n",
       "      <th>terr_boundbox</th>\n",
       "      <th>terr_fewpoints</th>\n",
       "      <th>terr_distlong</th>\n",
       "      <th>terr_distshort</th>\n",
       "      <th>terr_durshort</th>\n",
       "      <th>terr_durlong</th>\n",
       "      <th>terr_fast</th>\n",
       "      <th>terr_fastsegs</th>\n",
       "    </tr>\n",
       "  </thead>\n",
       "  <tbody>\n",
       "    <tr>\n",
       "      <th>0</th>\n",
       "      <td>0003663e-33e0-4945-a082-cac7c40d24f8</td>\n",
       "      <td>2018-07-06 17:18:27.001000</td>\n",
       "      <td>0</td>\n",
       "      <td>0</td>\n",
       "      <td>-119.496511</td>\n",
       "      <td>49.893530</td>\n",
       "      <td>1</td>\n",
       "      <td>0.0</td>\n",
       "      <td>0.000</td>\n",
       "      <td>0.0</td>\n",
       "      <td>...</td>\n",
       "      <td>0</td>\n",
       "      <td>0.0</td>\n",
       "      <td>0.0</td>\n",
       "      <td>2</td>\n",
       "      <td>0.0</td>\n",
       "      <td>0.0</td>\n",
       "      <td>0.0</td>\n",
       "      <td>0.0</td>\n",
       "      <td>0.0</td>\n",
       "      <td>0.0</td>\n",
       "    </tr>\n",
       "    <tr>\n",
       "      <th>1</th>\n",
       "      <td>0003663e-33e0-4945-a082-cac7c40d24f8</td>\n",
       "      <td>2018-07-06 17:28:14.011000</td>\n",
       "      <td>0</td>\n",
       "      <td>0</td>\n",
       "      <td>-119.498258</td>\n",
       "      <td>49.886142</td>\n",
       "      <td>2</td>\n",
       "      <td>831.2</td>\n",
       "      <td>587.010</td>\n",
       "      <td>1.4</td>\n",
       "      <td>...</td>\n",
       "      <td>0</td>\n",
       "      <td>0.0</td>\n",
       "      <td>0.0</td>\n",
       "      <td>2</td>\n",
       "      <td>0.0</td>\n",
       "      <td>0.0</td>\n",
       "      <td>0.0</td>\n",
       "      <td>0.0</td>\n",
       "      <td>0.0</td>\n",
       "      <td>0.0</td>\n",
       "    </tr>\n",
       "    <tr>\n",
       "      <th>2</th>\n",
       "      <td>00066e1e-ae6d-4d23-9fc3-69585c34100b</td>\n",
       "      <td>2018-07-29 19:53:25.692000</td>\n",
       "      <td>0</td>\n",
       "      <td>0</td>\n",
       "      <td>-119.473100</td>\n",
       "      <td>49.886125</td>\n",
       "      <td>1</td>\n",
       "      <td>0.0</td>\n",
       "      <td>0.000</td>\n",
       "      <td>0.0</td>\n",
       "      <td>...</td>\n",
       "      <td>0</td>\n",
       "      <td>0.0</td>\n",
       "      <td>0.0</td>\n",
       "      <td>0</td>\n",
       "      <td>0.0</td>\n",
       "      <td>0.0</td>\n",
       "      <td>0.0</td>\n",
       "      <td>0.0</td>\n",
       "      <td>0.0</td>\n",
       "      <td>0.0</td>\n",
       "    </tr>\n",
       "    <tr>\n",
       "      <th>3</th>\n",
       "      <td>00066e1e-ae6d-4d23-9fc3-69585c34100b</td>\n",
       "      <td>2018-07-29 19:54:36</td>\n",
       "      <td>0</td>\n",
       "      <td>0</td>\n",
       "      <td>-119.474051</td>\n",
       "      <td>49.886237</td>\n",
       "      <td>2</td>\n",
       "      <td>69.4</td>\n",
       "      <td>70.308</td>\n",
       "      <td>1.0</td>\n",
       "      <td>...</td>\n",
       "      <td>0</td>\n",
       "      <td>0.0</td>\n",
       "      <td>0.0</td>\n",
       "      <td>0</td>\n",
       "      <td>0.0</td>\n",
       "      <td>0.0</td>\n",
       "      <td>0.0</td>\n",
       "      <td>0.0</td>\n",
       "      <td>0.0</td>\n",
       "      <td>0.0</td>\n",
       "    </tr>\n",
       "    <tr>\n",
       "      <th>4</th>\n",
       "      <td>00066e1e-ae6d-4d23-9fc3-69585c34100b</td>\n",
       "      <td>2018-07-29 20:04:19.908000</td>\n",
       "      <td>0</td>\n",
       "      <td>0</td>\n",
       "      <td>-119.476657</td>\n",
       "      <td>49.885634</td>\n",
       "      <td>3</td>\n",
       "      <td>198.5</td>\n",
       "      <td>583.908</td>\n",
       "      <td>0.3</td>\n",
       "      <td>...</td>\n",
       "      <td>0</td>\n",
       "      <td>0.0</td>\n",
       "      <td>0.0</td>\n",
       "      <td>0</td>\n",
       "      <td>0.0</td>\n",
       "      <td>0.0</td>\n",
       "      <td>0.0</td>\n",
       "      <td>0.0</td>\n",
       "      <td>0.0</td>\n",
       "      <td>0.0</td>\n",
       "    </tr>\n",
       "  </tbody>\n",
       "</table>\n",
       "<p>5 rows × 24 columns</p>\n",
       "</div>"
      ],
      "text/plain": [
       "                                trip_id                   pointtime  \\\n",
       "0  0003663e-33e0-4945-a082-cac7c40d24f8  2018-07-06 17:18:27.001000   \n",
       "1  0003663e-33e0-4945-a082-cac7c40d24f8  2018-07-06 17:28:14.011000   \n",
       "2  00066e1e-ae6d-4d23-9fc3-69585c34100b  2018-07-29 19:53:25.692000   \n",
       "3  00066e1e-ae6d-4d23-9fc3-69585c34100b         2018-07-29 19:54:36   \n",
       "4  00066e1e-ae6d-4d23-9fc3-69585c34100b  2018-07-29 20:04:19.908000   \n",
       "\n",
       "   tripstarttime  tripendtime         lon        lat  m  pointdist  pointdur  \\\n",
       "0              0            0 -119.496511  49.893530  1        0.0     0.000   \n",
       "1              0            0 -119.498258  49.886142  2      831.2   587.010   \n",
       "2              0            0 -119.473100  49.886125  1        0.0     0.000   \n",
       "3              0            0 -119.474051  49.886237  2       69.4    70.308   \n",
       "4              0            0 -119.476657  49.885634  3      198.5   583.908   \n",
       "\n",
       "   pointspeed  ...  perr_shortseg  perr_fastseg  terr_boundbox  \\\n",
       "0         0.0  ...              0           0.0            0.0   \n",
       "1         1.4  ...              0           0.0            0.0   \n",
       "2         0.0  ...              0           0.0            0.0   \n",
       "3         1.0  ...              0           0.0            0.0   \n",
       "4         0.3  ...              0           0.0            0.0   \n",
       "\n",
       "   terr_fewpoints  terr_distlong  terr_distshort  terr_durshort  terr_durlong  \\\n",
       "0               2            0.0             0.0            0.0           0.0   \n",
       "1               2            0.0             0.0            0.0           0.0   \n",
       "2               0            0.0             0.0            0.0           0.0   \n",
       "3               0            0.0             0.0            0.0           0.0   \n",
       "4               0            0.0             0.0            0.0           0.0   \n",
       "\n",
       "   terr_fast  terr_fastsegs  \n",
       "0        0.0            0.0  \n",
       "1        0.0            0.0  \n",
       "2        0.0            0.0  \n",
       "3        0.0            0.0  \n",
       "4        0.0            0.0  \n",
       "\n",
       "[5 rows x 24 columns]"
      ]
     },
     "execution_count": 2,
     "metadata": {},
     "output_type": "execute_result"
    }
   ],
   "source": [
    "df = pd.read_csv('/Users/lizawood/UBC/Bikeshare/trip_points - consolidated - 0611_0909-points.csv')\n",
    "df=df.sort_values(by=['trip_id','pointtime']) # sort data\n",
    "df.head()"
   ]
  },
  {
   "cell_type": "markdown",
   "metadata": {},
   "source": [
    "### Remove trips that go outside of Kelowna"
   ]
  },
  {
   "cell_type": "code",
   "execution_count": 3,
   "metadata": {},
   "outputs": [
    {
     "data": {
      "text/plain": [
       "(292035, 24)"
      ]
     },
     "execution_count": 3,
     "metadata": {},
     "output_type": "execute_result"
    }
   ],
   "source": [
    "# Starting number of rows\n",
    "\n",
    "df.shape"
   ]
  },
  {
   "cell_type": "code",
   "execution_count": 4,
   "metadata": {},
   "outputs": [
    {
     "data": {
      "text/plain": [
       "trip_id            object\n",
       "pointtime          object\n",
       "tripstarttime       int64\n",
       "tripendtime         int64\n",
       "lon               float64\n",
       "lat               float64\n",
       "m                   int64\n",
       "pointdist         float64\n",
       "pointdur          float64\n",
       "pointspeed        float64\n",
       "tipdist           float64\n",
       "tripdur           float64\n",
       "tripspeed         float64\n",
       "perr_boundbox        bool\n",
       "perr_shortseg       int64\n",
       "perr_fastseg      float64\n",
       "terr_boundbox     float64\n",
       "terr_fewpoints      int64\n",
       "terr_distlong     float64\n",
       "terr_distshort    float64\n",
       "terr_durshort     float64\n",
       "terr_durlong      float64\n",
       "terr_fast         float64\n",
       "terr_fastsegs     float64\n",
       "dtype: object"
      ]
     },
     "execution_count": 4,
     "metadata": {},
     "output_type": "execute_result"
    }
   ],
   "source": [
    "# Full list of columns and data types\n",
    "\n",
    "df.dtypes"
   ]
  },
  {
   "cell_type": "code",
   "execution_count": 5,
   "metadata": {},
   "outputs": [
    {
     "data": {
      "text/plain": [
       "(276919, 24)"
      ]
     },
     "execution_count": 5,
     "metadata": {},
     "output_type": "execute_result"
    }
   ],
   "source": [
    "# perr_boundbox is a boolean indicating whether a trip is within Kelowna/West Kelowna boundaries\n",
    "\n",
    "df = df[df.perr_boundbox]\n",
    "df.shape"
   ]
  },
  {
   "cell_type": "code",
   "execution_count": 6,
   "metadata": {},
   "outputs": [
    {
     "data": {
      "text/plain": [
       "22153"
      ]
     },
     "execution_count": 6,
     "metadata": {},
     "output_type": "execute_result"
    }
   ],
   "source": [
    "# Count how many total unique trip IDs we have at this point:\n",
    "\n",
    "df.trip_id.nunique()"
   ]
  },
  {
   "cell_type": "markdown",
   "metadata": {},
   "source": [
    "### Remove trips with less than 3 points"
   ]
  },
  {
   "cell_type": "code",
   "execution_count": 7,
   "metadata": {},
   "outputs": [
    {
     "data": {
      "text/plain": [
       "(267101, 24)"
      ]
     },
     "execution_count": 7,
     "metadata": {},
     "output_type": "execute_result"
    }
   ],
   "source": [
    "# remove trips with less than 3 points\n",
    "\n",
    "#df = df.groupby('trip_id').filter(lambda x: x['trip_id'].count() >= 3) \n",
    "df = df[df['terr_fewpoints']==0]  #filtering what was already identified\n",
    "df.shape"
   ]
  },
  {
   "cell_type": "code",
   "execution_count": 8,
   "metadata": {},
   "outputs": [
    {
     "data": {
      "text/plain": [
       "14353"
      ]
     },
     "execution_count": 8,
     "metadata": {},
     "output_type": "execute_result"
    }
   ],
   "source": [
    "# Count how many total unique trip IDs we have at this point:\n",
    "\n",
    "df.trip_id.nunique()"
   ]
  },
  {
   "cell_type": "markdown",
   "metadata": {},
   "source": [
    "### Remove trips that are too long (distance)"
   ]
  },
  {
   "cell_type": "code",
   "execution_count": 9,
   "metadata": {},
   "outputs": [
    {
     "data": {
      "text/plain": [
       "(199478, 24)"
      ]
     },
     "execution_count": 9,
     "metadata": {},
     "output_type": "execute_result"
    }
   ],
   "source": [
    "df = df[df['terr_distlong']==0]\n",
    "df.shape"
   ]
  },
  {
   "cell_type": "code",
   "execution_count": 10,
   "metadata": {},
   "outputs": [
    {
     "data": {
      "text/plain": [
       "13952"
      ]
     },
     "execution_count": 10,
     "metadata": {},
     "output_type": "execute_result"
    }
   ],
   "source": [
    "# Count how many total unique trip IDs we have at this point:\n",
    "\n",
    "df.trip_id.nunique()"
   ]
  },
  {
   "cell_type": "markdown",
   "metadata": {},
   "source": [
    "### Remove trips that are too short (distance)"
   ]
  },
  {
   "cell_type": "code",
   "execution_count": 11,
   "metadata": {},
   "outputs": [
    {
     "data": {
      "text/plain": [
       "(198237, 24)"
      ]
     },
     "execution_count": 11,
     "metadata": {},
     "output_type": "execute_result"
    }
   ],
   "source": [
    "df = df[df['terr_distshort']==0]\n",
    "df.shape"
   ]
  },
  {
   "cell_type": "code",
   "execution_count": 12,
   "metadata": {},
   "outputs": [
    {
     "data": {
      "text/plain": [
       "13606"
      ]
     },
     "execution_count": 12,
     "metadata": {},
     "output_type": "execute_result"
    }
   ],
   "source": [
    "# Count how many total unique trip IDs we have at this point:\n",
    "\n",
    "df.trip_id.nunique()"
   ]
  },
  {
   "cell_type": "markdown",
   "metadata": {},
   "source": [
    "### Remove trips that are too long (time)"
   ]
  },
  {
   "cell_type": "code",
   "execution_count": 13,
   "metadata": {},
   "outputs": [
    {
     "data": {
      "text/plain": [
       "(161770, 24)"
      ]
     },
     "execution_count": 13,
     "metadata": {},
     "output_type": "execute_result"
    }
   ],
   "source": [
    "df = df[df['terr_durlong']==0]\n",
    "df.shape"
   ]
  },
  {
   "cell_type": "code",
   "execution_count": 14,
   "metadata": {},
   "outputs": [
    {
     "data": {
      "text/plain": [
       "12050"
      ]
     },
     "execution_count": 14,
     "metadata": {},
     "output_type": "execute_result"
    }
   ],
   "source": [
    "# Count how many total unique trip IDs we have at this point:\n",
    "\n",
    "df.trip_id.nunique()"
   ]
  },
  {
   "cell_type": "markdown",
   "metadata": {},
   "source": [
    "### Remove trips that are too short (time)"
   ]
  },
  {
   "cell_type": "code",
   "execution_count": 15,
   "metadata": {},
   "outputs": [
    {
     "data": {
      "text/plain": [
       "(160978, 24)"
      ]
     },
     "execution_count": 15,
     "metadata": {},
     "output_type": "execute_result"
    }
   ],
   "source": [
    "df = df[df['terr_durshort']==0]\n",
    "df.shape"
   ]
  },
  {
   "cell_type": "code",
   "execution_count": 16,
   "metadata": {},
   "outputs": [
    {
     "data": {
      "text/plain": [
       "11941"
      ]
     },
     "execution_count": 16,
     "metadata": {},
     "output_type": "execute_result"
    }
   ],
   "source": [
    "# Count how many total unique trip IDs we have at this point:\n",
    "\n",
    "df.trip_id.nunique()"
   ]
  },
  {
   "cell_type": "markdown",
   "metadata": {},
   "source": [
    "### Remove trips that exceed the maximum average speed"
   ]
  },
  {
   "cell_type": "code",
   "execution_count": 17,
   "metadata": {},
   "outputs": [
    {
     "data": {
      "text/plain": [
       "(155512, 24)"
      ]
     },
     "execution_count": 17,
     "metadata": {},
     "output_type": "execute_result"
    }
   ],
   "source": [
    "df = df[df['terr_fast']==0]\n",
    "df.shape"
   ]
  },
  {
   "cell_type": "code",
   "execution_count": 18,
   "metadata": {},
   "outputs": [
    {
     "data": {
      "text/plain": [
       "11745"
      ]
     },
     "execution_count": 18,
     "metadata": {},
     "output_type": "execute_result"
    }
   ],
   "source": [
    "# Count how many total unique trip IDs we have at this point:\n",
    "\n",
    "df.trip_id.nunique()"
   ]
  },
  {
   "cell_type": "markdown",
   "metadata": {},
   "source": [
    "### Remove trips that have segments that are too fast (noise)"
   ]
  },
  {
   "cell_type": "code",
   "execution_count": 19,
   "metadata": {},
   "outputs": [
    {
     "data": {
      "text/plain": [
       "(97110, 24)"
      ]
     },
     "execution_count": 19,
     "metadata": {},
     "output_type": "execute_result"
    }
   ],
   "source": [
    "df = df[df['terr_fastsegs']==0]\n",
    "df.shape"
   ]
  },
  {
   "cell_type": "code",
   "execution_count": 20,
   "metadata": {},
   "outputs": [
    {
     "data": {
      "text/plain": [
       "8853"
      ]
     },
     "execution_count": 20,
     "metadata": {},
     "output_type": "execute_result"
    }
   ],
   "source": [
    "# Count how many total unique trip IDs we have at this point:\n",
    "\n",
    "df.trip_id.nunique()"
   ]
  },
  {
   "cell_type": "code",
   "execution_count": 21,
   "metadata": {},
   "outputs": [],
   "source": [
    "# Export as CSV:\n",
    "\n",
    "df.to_csv(\"Downtown_points_0611_0909_partly_clean.csv\")"
   ]
  },
  {
   "cell_type": "markdown",
   "metadata": {},
   "source": [
    "## Trip Statistics"
   ]
  },
  {
   "cell_type": "markdown",
   "metadata": {},
   "source": [
    "### Distribution of frequency of GPS Updates"
   ]
  },
  {
   "cell_type": "code",
   "execution_count": 22,
   "metadata": {},
   "outputs": [
    {
     "data": {
      "text/html": [
       "<div>\n",
       "<style scoped>\n",
       "    .dataframe tbody tr th:only-of-type {\n",
       "        vertical-align: middle;\n",
       "    }\n",
       "\n",
       "    .dataframe tbody tr th {\n",
       "        vertical-align: top;\n",
       "    }\n",
       "\n",
       "    .dataframe thead th {\n",
       "        text-align: right;\n",
       "    }\n",
       "</style>\n",
       "<table border=\"1\" class=\"dataframe\">\n",
       "  <thead>\n",
       "    <tr style=\"text-align: right;\">\n",
       "      <th></th>\n",
       "      <th>trip_id</th>\n",
       "      <th>time</th>\n",
       "      <th>lon</th>\n",
       "      <th>lat</th>\n",
       "      <th>lon_shifted</th>\n",
       "      <th>lat_shifted</th>\n",
       "      <th>next_time</th>\n",
       "      <th>update_time</th>\n",
       "      <th>seconds</th>\n",
       "      <th>minutes</th>\n",
       "    </tr>\n",
       "  </thead>\n",
       "  <tbody>\n",
       "    <tr>\n",
       "      <th>2</th>\n",
       "      <td>00066e1e-ae6d-4d23-9fc3-69585c34100b</td>\n",
       "      <td>2018-07-29 19:53:25.692</td>\n",
       "      <td>-119.473100</td>\n",
       "      <td>49.886125</td>\n",
       "      <td>-119.474051</td>\n",
       "      <td>49.886237</td>\n",
       "      <td>2018-07-29 19:54:36.000</td>\n",
       "      <td>00:01:10.308000</td>\n",
       "      <td>70.308</td>\n",
       "      <td>1</td>\n",
       "    </tr>\n",
       "    <tr>\n",
       "      <th>3</th>\n",
       "      <td>00066e1e-ae6d-4d23-9fc3-69585c34100b</td>\n",
       "      <td>2018-07-29 19:54:36.000</td>\n",
       "      <td>-119.474051</td>\n",
       "      <td>49.886237</td>\n",
       "      <td>-119.476657</td>\n",
       "      <td>49.885634</td>\n",
       "      <td>2018-07-29 20:04:19.908</td>\n",
       "      <td>00:09:43.908000</td>\n",
       "      <td>583.908</td>\n",
       "      <td>9</td>\n",
       "    </tr>\n",
       "    <tr>\n",
       "      <th>5</th>\n",
       "      <td>0011fa6a-ba9c-4a10-a35d-1be8b961d1e6</td>\n",
       "      <td>2018-07-03 18:25:00.999</td>\n",
       "      <td>-119.488891</td>\n",
       "      <td>49.886181</td>\n",
       "      <td>-119.492047</td>\n",
       "      <td>49.886383</td>\n",
       "      <td>2018-07-03 18:33:02.464</td>\n",
       "      <td>00:08:01.465000</td>\n",
       "      <td>481.465</td>\n",
       "      <td>8</td>\n",
       "    </tr>\n",
       "    <tr>\n",
       "      <th>6</th>\n",
       "      <td>0011fa6a-ba9c-4a10-a35d-1be8b961d1e6</td>\n",
       "      <td>2018-07-03 18:33:02.464</td>\n",
       "      <td>-119.492047</td>\n",
       "      <td>49.886383</td>\n",
       "      <td>-119.493427</td>\n",
       "      <td>49.886508</td>\n",
       "      <td>2018-07-03 18:34:49.000</td>\n",
       "      <td>00:01:46.536000</td>\n",
       "      <td>106.536</td>\n",
       "      <td>1</td>\n",
       "    </tr>\n",
       "    <tr>\n",
       "      <th>7</th>\n",
       "      <td>0011fa6a-ba9c-4a10-a35d-1be8b961d1e6</td>\n",
       "      <td>2018-07-03 18:34:49.000</td>\n",
       "      <td>-119.493427</td>\n",
       "      <td>49.886508</td>\n",
       "      <td>-119.494819</td>\n",
       "      <td>49.886571</td>\n",
       "      <td>2018-07-03 18:36:19.999</td>\n",
       "      <td>00:01:30.999000</td>\n",
       "      <td>90.999</td>\n",
       "      <td>1</td>\n",
       "    </tr>\n",
       "  </tbody>\n",
       "</table>\n",
       "</div>"
      ],
      "text/plain": [
       "                                trip_id                    time         lon  \\\n",
       "2  00066e1e-ae6d-4d23-9fc3-69585c34100b 2018-07-29 19:53:25.692 -119.473100   \n",
       "3  00066e1e-ae6d-4d23-9fc3-69585c34100b 2018-07-29 19:54:36.000 -119.474051   \n",
       "5  0011fa6a-ba9c-4a10-a35d-1be8b961d1e6 2018-07-03 18:25:00.999 -119.488891   \n",
       "6  0011fa6a-ba9c-4a10-a35d-1be8b961d1e6 2018-07-03 18:33:02.464 -119.492047   \n",
       "7  0011fa6a-ba9c-4a10-a35d-1be8b961d1e6 2018-07-03 18:34:49.000 -119.493427   \n",
       "\n",
       "         lat  lon_shifted  lat_shifted               next_time  \\\n",
       "2  49.886125  -119.474051    49.886237 2018-07-29 19:54:36.000   \n",
       "3  49.886237  -119.476657    49.885634 2018-07-29 20:04:19.908   \n",
       "5  49.886181  -119.492047    49.886383 2018-07-03 18:33:02.464   \n",
       "6  49.886383  -119.493427    49.886508 2018-07-03 18:34:49.000   \n",
       "7  49.886508  -119.494819    49.886571 2018-07-03 18:36:19.999   \n",
       "\n",
       "      update_time  seconds  minutes  \n",
       "2 00:01:10.308000   70.308        1  \n",
       "3 00:09:43.908000  583.908        9  \n",
       "5 00:08:01.465000  481.465        8  \n",
       "6 00:01:46.536000  106.536        1  \n",
       "7 00:01:30.999000   90.999        1  "
      ]
     },
     "execution_count": 22,
     "metadata": {},
     "output_type": "execute_result"
    }
   ],
   "source": [
    "# Calculate the time between points for each trip and convert to seconds:\n",
    "\n",
    "df['time']=pd.to_datetime(df['pointtime'])\n",
    "df = df[['trip_id','time','lon','lat']] \n",
    "df['lon_shifted']= df.groupby('trip_id')['lon'].shift(-1)  \n",
    "df['lat_shifted'] = df.groupby('trip_id')['lat'].shift(-1) \n",
    "df['next_time'] = df.groupby('trip_id')['time'].shift(-1)\n",
    "df.dropna(axis=0, how='any', inplace=True)\n",
    "df['update_time']= df['next_time'] - df['time']\n",
    "df['seconds'] = df['update_time'].dt.total_seconds() #I'll deal with warnings later\n",
    "df['minutes'] = df['update_time'].dt.total_seconds().div(60).astype(int)\n",
    "df.head()"
   ]
  },
  {
   "cell_type": "markdown",
   "metadata": {},
   "source": [
    "Calculate the average between points per trip ID."
   ]
  },
  {
   "cell_type": "code",
   "execution_count": 23,
   "metadata": {},
   "outputs": [
    {
     "data": {
      "text/html": [
       "<div>\n",
       "<style scoped>\n",
       "    .dataframe tbody tr th:only-of-type {\n",
       "        vertical-align: middle;\n",
       "    }\n",
       "\n",
       "    .dataframe tbody tr th {\n",
       "        vertical-align: top;\n",
       "    }\n",
       "\n",
       "    .dataframe thead th {\n",
       "        text-align: right;\n",
       "    }\n",
       "</style>\n",
       "<table border=\"1\" class=\"dataframe\">\n",
       "  <thead>\n",
       "    <tr style=\"text-align: right;\">\n",
       "      <th></th>\n",
       "      <th>minutes</th>\n",
       "    </tr>\n",
       "    <tr>\n",
       "      <th>trip_id</th>\n",
       "      <th></th>\n",
       "    </tr>\n",
       "  </thead>\n",
       "  <tbody>\n",
       "    <tr>\n",
       "      <th>00066e1e-ae6d-4d23-9fc3-69585c34100b</th>\n",
       "      <td>5.000000</td>\n",
       "    </tr>\n",
       "    <tr>\n",
       "      <th>0011fa6a-ba9c-4a10-a35d-1be8b961d1e6</th>\n",
       "      <td>2.750000</td>\n",
       "    </tr>\n",
       "    <tr>\n",
       "      <th>00144b51-4e32-4f53-a8d5-0ce530d58054</th>\n",
       "      <td>0.750000</td>\n",
       "    </tr>\n",
       "    <tr>\n",
       "      <th>0014c5d9-5b35-4a65-9d41-a755db8b90a5</th>\n",
       "      <td>1.125000</td>\n",
       "    </tr>\n",
       "    <tr>\n",
       "      <th>001658cc-b108-40f3-9c51-d778f43eb340</th>\n",
       "      <td>1.333333</td>\n",
       "    </tr>\n",
       "  </tbody>\n",
       "</table>\n",
       "</div>"
      ],
      "text/plain": [
       "                                       minutes\n",
       "trip_id                                       \n",
       "00066e1e-ae6d-4d23-9fc3-69585c34100b  5.000000\n",
       "0011fa6a-ba9c-4a10-a35d-1be8b961d1e6  2.750000\n",
       "00144b51-4e32-4f53-a8d5-0ce530d58054  0.750000\n",
       "0014c5d9-5b35-4a65-9d41-a755db8b90a5  1.125000\n",
       "001658cc-b108-40f3-9c51-d778f43eb340  1.333333"
      ]
     },
     "execution_count": 23,
     "metadata": {},
     "output_type": "execute_result"
    }
   ],
   "source": [
    "grouped = df.groupby('trip_id').mean()[['minutes']]\n",
    "grouped.head()"
   ]
  },
  {
   "cell_type": "code",
   "execution_count": 33,
   "metadata": {},
   "outputs": [
    {
     "data": {
      "text/plain": [
       "Text(0, 0.5, 'Count')"
      ]
     },
     "execution_count": 33,
     "metadata": {},
     "output_type": "execute_result"
    },
    {
     "data": {
      "image/png": "[encoded data removed]",
      "text/plain": [
       "<Figure size 432x288 with 1 Axes>"
      ]
     },
     "metadata": {
      "needs_background": "light"
     },
     "output_type": "display_data"
    }
   ],
   "source": [
    "import matplotlib.pyplot as plt\n",
    "\n",
    "grouped.plot.hist(bins = 100)\n",
    "plt.xlim(0,20)\n",
    "plt.legend('')\n",
    "plt.title('Average GPS Update Frequency Per Trip')\n",
    "plt.xlabel('Minutes')\n",
    "plt.ylabel('Count')"
   ]
  },
  {
   "cell_type": "code",
   "execution_count": null,
   "metadata": {},
   "outputs": [],
   "source": [
    "grouped.seconds.describe()"
   ]
  },
  {
   "cell_type": "code",
   "execution_count": null,
   "metadata": {},
   "outputs": [],
   "source": [
    "boxplot = grouped.boxplot(column=['seconds'])"
   ]
  },
  {
   "cell_type": "code",
   "execution_count": null,
   "metadata": {},
   "outputs": [],
   "source": [
    "# With outliers removed\n",
    "\n",
    "boxplot = grouped.boxplot(column=['seconds'], showcaps=True, showfliers=False)"
   ]
  },
  {
   "cell_type": "markdown",
   "metadata": {},
   "source": [
    "## Filter the `trip_id` that go through downtown Kelowna\n",
    "\n",
    "The cleaning below ultimately wasn't used since we used distance from node to remove GPS points in the lake and trips outside Kelowna. However, the code below is useful if you want to just extract trips that pass through or are confined to downtown Kelowna."
   ]
  },
  {
   "cell_type": "markdown",
   "metadata": {},
   "source": [
    "### Trips that pass through downtown"
   ]
  },
  {
   "cell_type": "code",
   "execution_count": null,
   "metadata": {},
   "outputs": [],
   "source": [
    "# Create a new dataframe with trip id's that pass through downtown \n",
    "\n",
    "north, south, east, west = 49.897, 49.879,-119.482, -119.505 \n",
    "\n",
    "df1 = dfkeep[(dfkeep.lat< north) & (dfkeep.lat>south) & (dfkeep.lon< east) & (dfkeep.lon>west)]\n",
    "\n",
    "df1.shape"
   ]
  },
  {
   "cell_type": "code",
   "execution_count": null,
   "metadata": {},
   "outputs": [],
   "source": [
    "# Count how many total unique trip IDs we have at this point:\n",
    "\n",
    "df1.trip_id.nunique()"
   ]
  },
  {
   "cell_type": "code",
   "execution_count": null,
   "metadata": {},
   "outputs": [],
   "source": [
    "# remove trips with less than 3 points\n",
    "\n",
    "df1 = df1.groupby('trip_id').filter(lambda x: x['trip_id'].count() >= 3) \n",
    "df1.trip_id.nunique()"
   ]
  },
  {
   "cell_type": "code",
   "execution_count": null,
   "metadata": {},
   "outputs": [],
   "source": [
    "# Export as CSV file\n",
    "\n",
    "df1.to_csv(\"Downtown_points_0611_0909_clean.csv\")"
   ]
  },
  {
   "cell_type": "code",
   "execution_count": null,
   "metadata": {},
   "outputs": [],
   "source": [
    "# Verify the original data frame still contains all the previous trip id's\n",
    "\n",
    "df.trip_id.nunique()"
   ]
  },
  {
   "cell_type": "code",
   "execution_count": null,
   "metadata": {},
   "outputs": [],
   "source": [
    "# Filter the original data set by this final list of trip_id's!\n",
    "\n",
    "trips = df.trip_id.isin(df1.trip_id)\n",
    "dftrips = df[trips]"
   ]
  },
  {
   "cell_type": "code",
   "execution_count": null,
   "metadata": {},
   "outputs": [],
   "source": [
    "# Verify we have filtered based on the trip IDs in df1\n",
    "\n",
    "dftrips.trip_id.nunique()"
   ]
  },
  {
   "cell_type": "code",
   "execution_count": null,
   "metadata": {},
   "outputs": [],
   "source": [
    "# Export as CSV file\n",
    "\n",
    "dftrips.to_csv(\"Downtown_points_0611_0909_clean_all.csv\")"
   ]
  },
  {
   "cell_type": "markdown",
   "metadata": {},
   "source": [
    "### Trips that are completely contained within downtown"
   ]
  },
  {
   "cell_type": "code",
   "execution_count": null,
   "metadata": {},
   "outputs": [],
   "source": [
    "# Confirm we still have the original trips in df\n",
    "\n",
    "df.trip_id.nunique()"
   ]
  },
  {
   "cell_type": "code",
   "execution_count": null,
   "metadata": {},
   "outputs": [],
   "source": [
    "#Filter trips that are confined to downtown (never leave)\n",
    "\n",
    "dflat = dfkeep.groupby('trip_id').filter(lambda x: ((x.lat < north) & (x.lat > south)).all())\n",
    "dfdt = dflat.groupby('trip_id').filter(lambda x: ((x.lon < east) & (x.lon > west)).all())\n",
    "\n",
    "dfdt.shape"
   ]
  },
  {
   "cell_type": "code",
   "execution_count": null,
   "metadata": {},
   "outputs": [],
   "source": [
    "dfdt.trip_id.nunique()"
   ]
  },
  {
   "cell_type": "code",
   "execution_count": null,
   "metadata": {},
   "outputs": [],
   "source": [
    "# remove trips with less than 3 points\n",
    "\n",
    "dfdt = dfdt.groupby('trip_id').filter(lambda x: x['trip_id'].count() >= 3) \n",
    "dfdt.trip_id.nunique()"
   ]
  },
  {
   "cell_type": "code",
   "execution_count": null,
   "metadata": {},
   "outputs": [],
   "source": [
    "# Export as CSV file\n",
    "\n",
    "dfdt.to_csv(\"Downtown_points_0611_0909_clean_dtonly.csv\")"
   ]
  },
  {
   "cell_type": "code",
   "execution_count": null,
   "metadata": {},
   "outputs": [],
   "source": []
  }
 ],
 "metadata": {
  "kernelspec": {
   "display_name": "Python 3",
   "language": "python",
   "name": "python3"
  },
  "language_info": {
   "codemirror_mode": {
    "name": "ipython",
    "version": 3
   },
   "file_extension": ".py",
   "mimetype": "text/x-python",
   "name": "python",
   "nbconvert_exporter": "python",
   "pygments_lexer": "ipython3",
   "version": "3.7.3"
  }
 },
 "nbformat": 4,
 "nbformat_minor": 2
}
